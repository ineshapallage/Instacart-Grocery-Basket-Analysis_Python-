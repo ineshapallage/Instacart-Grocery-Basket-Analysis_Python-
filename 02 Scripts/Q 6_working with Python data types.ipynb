{
 "cells": [
  {
   "cell_type": "code",
   "execution_count": 1,
   "id": "55e10864",
   "metadata": {},
   "outputs": [],
   "source": [
    "# Q 6_working with Python data types"
   ]
  },
  {
   "cell_type": "code",
   "execution_count": 6,
   "id": "d2f08730",
   "metadata": {},
   "outputs": [],
   "source": [
    "x = 40\n",
    "y = 60\n"
   ]
  },
  {
   "cell_type": "code",
   "execution_count": 7,
   "id": "1a62e449",
   "metadata": {},
   "outputs": [
    {
     "data": {
      "text/plain": [
       "100"
      ]
     },
     "execution_count": 7,
     "metadata": {},
     "output_type": "execute_result"
    }
   ],
   "source": [
    "x+y"
   ]
  },
  {
   "cell_type": "code",
   "execution_count": 16,
   "id": "128c6109",
   "metadata": {},
   "outputs": [],
   "source": [
    "a = 80\n",
    "b = 60\n",
    "c = 40"
   ]
  },
  {
   "cell_type": "code",
   "execution_count": 17,
   "id": "be83064c",
   "metadata": {
    "scrolled": true
   },
   "outputs": [
    {
     "data": {
      "text/plain": [
       "100"
      ]
     },
     "execution_count": 17,
     "metadata": {},
     "output_type": "execute_result"
    }
   ],
   "source": [
    "a+b-c"
   ]
  },
  {
   "cell_type": "code",
   "execution_count": 18,
   "id": "bf7cb1a3",
   "metadata": {},
   "outputs": [],
   "source": [
    "a=20\n",
    "b=5"
   ]
  },
  {
   "cell_type": "code",
   "execution_count": 19,
   "id": "42d576e8",
   "metadata": {},
   "outputs": [
    {
     "data": {
      "text/plain": [
       "100"
      ]
     },
     "execution_count": 19,
     "metadata": {},
     "output_type": "execute_result"
    }
   ],
   "source": [
    "a*b"
   ]
  },
  {
   "cell_type": "code",
   "execution_count": 20,
   "id": "4aa2ac9c",
   "metadata": {},
   "outputs": [],
   "source": [
    "# Q 7_ Code 2 floating-point variables"
   ]
  },
  {
   "cell_type": "code",
   "execution_count": 21,
   "id": "4e18f522",
   "metadata": {},
   "outputs": [],
   "source": [
    "a=20.5\n",
    "b=5.5"
   ]
  },
  {
   "cell_type": "code",
   "execution_count": 22,
   "id": "bb97af5a",
   "metadata": {},
   "outputs": [
    {
     "data": {
      "text/plain": [
       "3.727272727272727"
      ]
     },
     "execution_count": 22,
     "metadata": {},
     "output_type": "execute_result"
    }
   ],
   "source": [
    "a/b"
   ]
  },
  {
   "cell_type": "code",
   "execution_count": null,
   "id": "f83e3f76",
   "metadata": {},
   "outputs": [],
   "source": [
    "# Q 7_Construct a short word made of separate strings"
   ]
  },
  {
   "cell_type": "code",
   "execution_count": 28,
   "id": "20ca2563",
   "metadata": {},
   "outputs": [],
   "source": [
    "a='Welcome '\n",
    "b= 'to '\n",
    "c= 'world '\n",
    "d= 'of '\n",
    "e= 'python '\n",
    "f= 'Inesha '\n",
    "g= 'Pallage '"
   ]
  },
  {
   "cell_type": "code",
   "execution_count": 29,
   "id": "e19d00bb",
   "metadata": {},
   "outputs": [
    {
     "data": {
      "text/plain": [
       "'Welcome to world of python Inesha Pallage '"
      ]
     },
     "execution_count": 29,
     "metadata": {},
     "output_type": "execute_result"
    }
   ],
   "source": [
    "a+b+c+d+e+f+g"
   ]
  }
 ],
 "metadata": {
  "kernelspec": {
   "display_name": "Python 3 (ipykernel)",
   "language": "python",
   "name": "python3"
  },
  "language_info": {
   "codemirror_mode": {
    "name": "ipython",
    "version": 3
   },
   "file_extension": ".py",
   "mimetype": "text/x-python",
   "name": "python",
   "nbconvert_exporter": "python",
   "pygments_lexer": "ipython3",
   "version": "3.11.5"
  }
 },
 "nbformat": 4,
 "nbformat_minor": 5
}
