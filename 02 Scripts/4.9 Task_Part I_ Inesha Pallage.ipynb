{
 "cells": [
  {
   "cell_type": "markdown",
   "id": "eb443b3e-526f-4ce3-9a01-9ba5878d4d47",
   "metadata": {},
   "source": [
    "# 4.9 Task _Part 1"
   ]
  },
  {
   "cell_type": "markdown",
   "id": "f18aa76e-bf6c-48f3-b858-a5b07c408289",
   "metadata": {},
   "source": [
    "## Q3: Import your analysis libraries, as well as your new customer data set as a dataframe"
   ]
  },
  {
   "cell_type": "code",
   "execution_count": 8,
   "id": "8018e304-2f92-487a-a33f-92d595207cfe",
   "metadata": {},
   "outputs": [],
   "source": [
    "## Import Libraries\n",
    "import pandas as pd\n",
    "import numpy as np\n",
    "import os\n",
    "import matplotlib.pyplot as plt\n",
    "import seaborn as sns\n",
    "import scipy"
   ]
  },
  {
   "cell_type": "code",
   "execution_count": 7,
   "id": "675413f3-7b13-4e20-9810-270f71cf7d79",
   "metadata": {},
   "outputs": [],
   "source": [
    "# Import ords_prods_merge Data set \n",
    "\n",
    "ords_prods_merge =pd.read_pickle(r'C:\\Users\\inesh\\Instacart Basket Analysis_01_02_2024\\02 Data\\Prepared Data\\ords_prods_merge_loyalty_spending_frequency_updated.pkl')"
   ]
  },
  {
   "cell_type": "code",
   "execution_count": 9,
   "id": "e765f884-697d-4adc-b103-4c9b4d8cc89e",
   "metadata": {},
   "outputs": [],
   "source": [
    "## Import customer data set from Original data\n",
    "\n",
    "df_customer_original =pd.read_csv(r'C:\\Users\\inesh\\Instacart Basket Analysis_01_02_2024\\02 Data\\Original Data\\customers.csv', index_col = False)"
   ]
  },
  {
   "cell_type": "code",
   "execution_count": 4,
   "id": "ba4766bf-897b-4a24-b46f-088a7abbf2dd",
   "metadata": {},
   "outputs": [
    {
     "data": {
      "text/plain": [
       "(206209, 10)"
      ]
     },
     "execution_count": 4,
     "metadata": {},
     "output_type": "execute_result"
    }
   ],
   "source": [
    "df_customer_original.shape"
   ]
  },
  {
   "cell_type": "code",
   "execution_count": 5,
   "id": "1d22bdc2-c3dd-4274-8783-01dbc78b041c",
   "metadata": {},
   "outputs": [
    {
     "data": {
      "text/html": [
       "<div>\n",
       "<style scoped>\n",
       "    .dataframe tbody tr th:only-of-type {\n",
       "        vertical-align: middle;\n",
       "    }\n",
       "\n",
       "    .dataframe tbody tr th {\n",
       "        vertical-align: top;\n",
       "    }\n",
       "\n",
       "    .dataframe thead th {\n",
       "        text-align: right;\n",
       "    }\n",
       "</style>\n",
       "<table border=\"1\" class=\"dataframe\">\n",
       "  <thead>\n",
       "    <tr style=\"text-align: right;\">\n",
       "      <th></th>\n",
       "      <th>user_id</th>\n",
       "      <th>First Name</th>\n",
       "      <th>Surnam</th>\n",
       "      <th>Gender</th>\n",
       "      <th>STATE</th>\n",
       "      <th>Age</th>\n",
       "      <th>date_joined</th>\n",
       "      <th>n_dependants</th>\n",
       "      <th>fam_status</th>\n",
       "      <th>income</th>\n",
       "    </tr>\n",
       "  </thead>\n",
       "  <tbody>\n",
       "    <tr>\n",
       "      <th>0</th>\n",
       "      <td>26711</td>\n",
       "      <td>Deborah</td>\n",
       "      <td>Esquivel</td>\n",
       "      <td>Female</td>\n",
       "      <td>Missouri</td>\n",
       "      <td>48</td>\n",
       "      <td>1/1/2017</td>\n",
       "      <td>3</td>\n",
       "      <td>married</td>\n",
       "      <td>165665</td>\n",
       "    </tr>\n",
       "    <tr>\n",
       "      <th>1</th>\n",
       "      <td>33890</td>\n",
       "      <td>Patricia</td>\n",
       "      <td>Hart</td>\n",
       "      <td>Female</td>\n",
       "      <td>New Mexico</td>\n",
       "      <td>36</td>\n",
       "      <td>1/1/2017</td>\n",
       "      <td>0</td>\n",
       "      <td>single</td>\n",
       "      <td>59285</td>\n",
       "    </tr>\n",
       "    <tr>\n",
       "      <th>2</th>\n",
       "      <td>65803</td>\n",
       "      <td>Kenneth</td>\n",
       "      <td>Farley</td>\n",
       "      <td>Male</td>\n",
       "      <td>Idaho</td>\n",
       "      <td>35</td>\n",
       "      <td>1/1/2017</td>\n",
       "      <td>2</td>\n",
       "      <td>married</td>\n",
       "      <td>99568</td>\n",
       "    </tr>\n",
       "    <tr>\n",
       "      <th>3</th>\n",
       "      <td>125935</td>\n",
       "      <td>Michelle</td>\n",
       "      <td>Hicks</td>\n",
       "      <td>Female</td>\n",
       "      <td>Iowa</td>\n",
       "      <td>40</td>\n",
       "      <td>1/1/2017</td>\n",
       "      <td>0</td>\n",
       "      <td>single</td>\n",
       "      <td>42049</td>\n",
       "    </tr>\n",
       "    <tr>\n",
       "      <th>4</th>\n",
       "      <td>130797</td>\n",
       "      <td>Ann</td>\n",
       "      <td>Gilmore</td>\n",
       "      <td>Female</td>\n",
       "      <td>Maryland</td>\n",
       "      <td>26</td>\n",
       "      <td>1/1/2017</td>\n",
       "      <td>1</td>\n",
       "      <td>married</td>\n",
       "      <td>40374</td>\n",
       "    </tr>\n",
       "  </tbody>\n",
       "</table>\n",
       "</div>"
      ],
      "text/plain": [
       "   user_id First Name    Surnam  Gender       STATE  Age date_joined  \\\n",
       "0    26711    Deborah  Esquivel  Female    Missouri   48    1/1/2017   \n",
       "1    33890   Patricia      Hart  Female  New Mexico   36    1/1/2017   \n",
       "2    65803    Kenneth    Farley    Male       Idaho   35    1/1/2017   \n",
       "3   125935   Michelle     Hicks  Female        Iowa   40    1/1/2017   \n",
       "4   130797        Ann   Gilmore  Female    Maryland   26    1/1/2017   \n",
       "\n",
       "   n_dependants fam_status  income  \n",
       "0             3    married  165665  \n",
       "1             0     single   59285  \n",
       "2             2    married   99568  \n",
       "3             0     single   42049  \n",
       "4             1    married   40374  "
      ]
     },
     "execution_count": 5,
     "metadata": {},
     "output_type": "execute_result"
    }
   ],
   "source": [
    "df_customer_original.head()"
   ]
  },
  {
   "cell_type": "markdown",
   "id": "7b1b04d9-5e78-411f-b9b0-62094a4d97dc",
   "metadata": {},
   "source": [
    "## Q4: Wrangle df_customer_original data "
   ]
  },
  {
   "cell_type": "markdown",
   "id": "f40b832b-f76a-43bf-8005-c831b681712d",
   "metadata": {},
   "source": [
    "#### Change column names & change into small case"
   ]
  },
  {
   "cell_type": "code",
   "execution_count": 14,
   "id": "b0316680-b7ba-4a68-b127-58eccad66bde",
   "metadata": {},
   "outputs": [],
   "source": [
    "df_customer_original.rename(columns={'First Name':'first_name',\n",
    "                                     'Surnam':'last_name',\n",
    "                                     'Gender':'gender',\n",
    "                                     'STATE':'state',\n",
    "                                     'Age':'age',\n",
    "                                     'n_dependants':'dependant_no',\n",
    "                                     'fam_status':'family_status'},\n",
    "                            inplace=True)"
   ]
  },
  {
   "cell_type": "code",
   "execution_count": 7,
   "id": "10d97a11-12f9-4a90-bd67-b86afa073ae7",
   "metadata": {},
   "outputs": [
    {
     "data": {
      "text/plain": [
       "Index(['user_id', 'first_name', 'last_name', 'gender', 'state', 'age',\n",
       "       'date_joined', 'dependant_no', 'family_status', 'income'],\n",
       "      dtype='object')"
      ]
     },
     "execution_count": 7,
     "metadata": {},
     "output_type": "execute_result"
    }
   ],
   "source": [
    "df_customer_original.columns"
   ]
  },
  {
   "cell_type": "markdown",
   "id": "d7967265-6506-4b4c-b73d-bad5f4857b7b",
   "metadata": {},
   "source": [
    "#### Check the data types of all the columns"
   ]
  },
  {
   "cell_type": "code",
   "execution_count": 8,
   "id": "a54915fe-9801-4ac3-afbb-b6f7801d82bd",
   "metadata": {},
   "outputs": [
    {
     "data": {
      "text/plain": [
       "user_id           int64\n",
       "first_name       object\n",
       "last_name        object\n",
       "gender           object\n",
       "state            object\n",
       "age               int64\n",
       "date_joined      object\n",
       "dependant_no      int64\n",
       "family_status    object\n",
       "income            int64\n",
       "dtype: object"
      ]
     },
     "execution_count": 8,
     "metadata": {},
     "output_type": "execute_result"
    }
   ],
   "source": [
    "df_customer_original.dtypes"
   ]
  },
  {
   "cell_type": "markdown",
   "id": "4c5a9499-a558-4984-aff1-90ea8087d1dc",
   "metadata": {},
   "source": [
    "#### Convert the data type of 'user_id' from integer to string (id fields is not used for any numerical calculations)\n"
   ]
  },
  {
   "cell_type": "code",
   "execution_count": 9,
   "id": "d9bc41b6-3a0e-459b-9304-3a16e9dcaf55",
   "metadata": {},
   "outputs": [],
   "source": [
    "df_customer_original['user_id']=df_customer_original['user_id'].astype('str')"
   ]
  },
  {
   "cell_type": "code",
   "execution_count": 10,
   "id": "f357c84a-69bb-4a7f-9adf-6acd00e401d4",
   "metadata": {},
   "outputs": [
    {
     "data": {
      "text/plain": [
       "user_id          object\n",
       "first_name       object\n",
       "last_name        object\n",
       "gender           object\n",
       "state            object\n",
       "age               int64\n",
       "date_joined      object\n",
       "dependant_no      int64\n",
       "family_status    object\n",
       "income            int64\n",
       "dtype: object"
      ]
     },
     "execution_count": 10,
     "metadata": {},
     "output_type": "execute_result"
    }
   ],
   "source": [
    "df_customer_original.dtypes"
   ]
  },
  {
   "cell_type": "code",
   "execution_count": 11,
   "id": "2a3db175-077a-44ad-a845-e32bcec1f7fa",
   "metadata": {},
   "outputs": [
    {
     "data": {
      "text/html": [
       "<div>\n",
       "<style scoped>\n",
       "    .dataframe tbody tr th:only-of-type {\n",
       "        vertical-align: middle;\n",
       "    }\n",
       "\n",
       "    .dataframe tbody tr th {\n",
       "        vertical-align: top;\n",
       "    }\n",
       "\n",
       "    .dataframe thead th {\n",
       "        text-align: right;\n",
       "    }\n",
       "</style>\n",
       "<table border=\"1\" class=\"dataframe\">\n",
       "  <thead>\n",
       "    <tr style=\"text-align: right;\">\n",
       "      <th></th>\n",
       "      <th>age</th>\n",
       "      <th>dependant_no</th>\n",
       "      <th>income</th>\n",
       "    </tr>\n",
       "  </thead>\n",
       "  <tbody>\n",
       "    <tr>\n",
       "      <th>count</th>\n",
       "      <td>206209.000000</td>\n",
       "      <td>206209.000000</td>\n",
       "      <td>206209.000000</td>\n",
       "    </tr>\n",
       "    <tr>\n",
       "      <th>mean</th>\n",
       "      <td>49.501646</td>\n",
       "      <td>1.499823</td>\n",
       "      <td>94632.852548</td>\n",
       "    </tr>\n",
       "    <tr>\n",
       "      <th>std</th>\n",
       "      <td>18.480962</td>\n",
       "      <td>1.118433</td>\n",
       "      <td>42473.786988</td>\n",
       "    </tr>\n",
       "    <tr>\n",
       "      <th>min</th>\n",
       "      <td>18.000000</td>\n",
       "      <td>0.000000</td>\n",
       "      <td>25903.000000</td>\n",
       "    </tr>\n",
       "    <tr>\n",
       "      <th>25%</th>\n",
       "      <td>33.000000</td>\n",
       "      <td>0.000000</td>\n",
       "      <td>59874.000000</td>\n",
       "    </tr>\n",
       "    <tr>\n",
       "      <th>50%</th>\n",
       "      <td>49.000000</td>\n",
       "      <td>1.000000</td>\n",
       "      <td>93547.000000</td>\n",
       "    </tr>\n",
       "    <tr>\n",
       "      <th>75%</th>\n",
       "      <td>66.000000</td>\n",
       "      <td>3.000000</td>\n",
       "      <td>124244.000000</td>\n",
       "    </tr>\n",
       "    <tr>\n",
       "      <th>max</th>\n",
       "      <td>81.000000</td>\n",
       "      <td>3.000000</td>\n",
       "      <td>593901.000000</td>\n",
       "    </tr>\n",
       "  </tbody>\n",
       "</table>\n",
       "</div>"
      ],
      "text/plain": [
       "                 age   dependant_no         income\n",
       "count  206209.000000  206209.000000  206209.000000\n",
       "mean       49.501646       1.499823   94632.852548\n",
       "std        18.480962       1.118433   42473.786988\n",
       "min        18.000000       0.000000   25903.000000\n",
       "25%        33.000000       0.000000   59874.000000\n",
       "50%        49.000000       1.000000   93547.000000\n",
       "75%        66.000000       3.000000  124244.000000\n",
       "max        81.000000       3.000000  593901.000000"
      ]
     },
     "execution_count": 11,
     "metadata": {},
     "output_type": "execute_result"
    }
   ],
   "source": [
    "df_customer_original.describe()"
   ]
  },
  {
   "cell_type": "markdown",
   "id": "1f1355aa-23c2-41c4-bf1d-00d8c5158e93",
   "metadata": {},
   "source": [
    "## Q5: Complete the fundamental data quality and consistency checks"
   ]
  },
  {
   "cell_type": "markdown",
   "id": "9076b3c7-38ca-4280-9416-c527826e8076",
   "metadata": {},
   "source": [
    "### Check for missing values"
   ]
  },
  {
   "cell_type": "code",
   "execution_count": 13,
   "id": "a51c1e33-c1d5-4df0-8ee3-7fe1c78598cc",
   "metadata": {},
   "outputs": [
    {
     "data": {
      "text/plain": [
       "user_id              0\n",
       "first_name       11259\n",
       "last_name            0\n",
       "gender               0\n",
       "state                0\n",
       "age                  0\n",
       "date_joined          0\n",
       "dependant_no         0\n",
       "family_status        0\n",
       "income               0\n",
       "dtype: int64"
      ]
     },
     "execution_count": 13,
     "metadata": {},
     "output_type": "execute_result"
    }
   ],
   "source": [
    "df_customer_original.isnull().sum()"
   ]
  },
  {
   "cell_type": "markdown",
   "id": "5d4d2766-448b-43f1-a2c0-8616cb8d0d3a",
   "metadata": {},
   "source": [
    "#### There are  11259 missing values in first_name column. No need to delete or replace this values as we can use user_is as unique column of customer data"
   ]
  },
  {
   "cell_type": "markdown",
   "id": "e7a3d045-0b21-4c56-a368-a3de2a9d6175",
   "metadata": {},
   "source": [
    "### Check for Duplicate values"
   ]
  },
  {
   "cell_type": "code",
   "execution_count": 10,
   "id": "33cc4b5f-9661-4004-8a64-b69fd5d4a921",
   "metadata": {},
   "outputs": [],
   "source": [
    "# Find duplicates in the DataFrame based on all columns\n",
    "\n",
    "duplicate_rows = df_customer_original[df_customer_original.duplicated()]"
   ]
  },
  {
   "cell_type": "code",
   "execution_count": 11,
   "id": "30c432d0-8ffd-4dcb-9c16-bd5e19657fe6",
   "metadata": {},
   "outputs": [
    {
     "name": "stdout",
     "output_type": "stream",
     "text": [
      "Empty DataFrame\n",
      "Columns: [user_id, First Name, Surnam, Gender, STATE, Age, date_joined, n_dependants, fam_status, income]\n",
      "Index: []\n"
     ]
    }
   ],
   "source": [
    "print(duplicate_rows)"
   ]
  },
  {
   "cell_type": "markdown",
   "id": "ce9dc794-7103-40aa-8dbd-657d0d73228a",
   "metadata": {},
   "source": [
    "### There are no duplicate rows in df_customer_original"
   ]
  },
  {
   "cell_type": "markdown",
   "id": "8babd216-3c75-4a38-a1b0-e4e33fa64db1",
   "metadata": {},
   "source": [
    "#### Check for Mix-data types"
   ]
  },
  {
   "cell_type": "code",
   "execution_count": 12,
   "id": "c60eae74-9d23-4b6e-ba36-f555461a0aa9",
   "metadata": {},
   "outputs": [
    {
     "name": "stdout",
     "output_type": "stream",
     "text": [
      "First Name\n"
     ]
    }
   ],
   "source": [
    "# check for columns that have mixed data type\n",
    "\n",
    "for col in df_customer_original.columns.tolist():\n",
    "    weird = (df_customer_original[[col]].map(type) != df_customer_original[[col]].iloc[0].apply(type)).any(axis = 1)\n",
    "    \n",
    "    if len (df_customer_original[weird]) > 0:\n",
    "        print (col)"
   ]
  },
  {
   "cell_type": "markdown",
   "id": "f90b0379-e77b-41cc-b670-26025942b946",
   "metadata": {},
   "source": [
    "First name column has mix  data type"
   ]
  },
  {
   "cell_type": "code",
   "execution_count": 15,
   "id": "86584443-bfde-47de-a1a4-697d72a6d5e2",
   "metadata": {},
   "outputs": [],
   "source": [
    "# changing data type\n",
    "df_customer_original['first_name'] = df_customer_original['first_name'].astype('str')"
   ]
  },
  {
   "cell_type": "code",
   "execution_count": 16,
   "id": "e08a4db4-609b-4769-8c8b-5040d5170f7a",
   "metadata": {},
   "outputs": [
    {
     "data": {
      "text/plain": [
       "dtype('O')"
      ]
     },
     "execution_count": 16,
     "metadata": {},
     "output_type": "execute_result"
    }
   ],
   "source": [
    "df_customer_original['first_name'].dtype"
   ]
  },
  {
   "cell_type": "markdown",
   "id": "2da04e15-5a3c-404a-9184-181ee8102346",
   "metadata": {},
   "source": [
    "## Q6: Combine your customer data with the rest of your prepared Instacart data"
   ]
  },
  {
   "cell_type": "code",
   "execution_count": 17,
   "id": "5f9cdd7e-fedb-400b-b526-9937f70611ba",
   "metadata": {},
   "outputs": [
    {
     "data": {
      "text/html": [
       "<div>\n",
       "<style scoped>\n",
       "    .dataframe tbody tr th:only-of-type {\n",
       "        vertical-align: middle;\n",
       "    }\n",
       "\n",
       "    .dataframe tbody tr th {\n",
       "        vertical-align: top;\n",
       "    }\n",
       "\n",
       "    .dataframe thead th {\n",
       "        text-align: right;\n",
       "    }\n",
       "</style>\n",
       "<table border=\"1\" class=\"dataframe\">\n",
       "  <thead>\n",
       "    <tr style=\"text-align: right;\">\n",
       "      <th></th>\n",
       "      <th>order_id</th>\n",
       "      <th>user_id</th>\n",
       "      <th>order_number</th>\n",
       "      <th>orders_day_of_week</th>\n",
       "      <th>order_hour_of_day</th>\n",
       "      <th>days_from_last_order</th>\n",
       "      <th>product_id</th>\n",
       "      <th>add_to_cart_order</th>\n",
       "      <th>reordered</th>\n",
       "      <th>_merge</th>\n",
       "      <th>...</th>\n",
       "      <th>price_range_loc</th>\n",
       "      <th>busiest_day</th>\n",
       "      <th>busiest_days</th>\n",
       "      <th>busiest_period_of_day</th>\n",
       "      <th>max_order</th>\n",
       "      <th>loyalty_flag</th>\n",
       "      <th>average_spending</th>\n",
       "      <th>spending flag</th>\n",
       "      <th>frequency_of_purchase</th>\n",
       "      <th>order frequency flag</th>\n",
       "    </tr>\n",
       "  </thead>\n",
       "  <tbody>\n",
       "    <tr>\n",
       "      <th>0</th>\n",
       "      <td>2539329</td>\n",
       "      <td>1</td>\n",
       "      <td>1</td>\n",
       "      <td>2</td>\n",
       "      <td>8</td>\n",
       "      <td>NaN</td>\n",
       "      <td>196</td>\n",
       "      <td>1</td>\n",
       "      <td>0</td>\n",
       "      <td>both</td>\n",
       "      <td>...</td>\n",
       "      <td>Mid-range product</td>\n",
       "      <td>Regularly busy</td>\n",
       "      <td>Regular days</td>\n",
       "      <td>Average_orders</td>\n",
       "      <td>10</td>\n",
       "      <td>New customer</td>\n",
       "      <td>6.367797</td>\n",
       "      <td>Low spender</td>\n",
       "      <td>20.5</td>\n",
       "      <td>Non-frequent customer</td>\n",
       "    </tr>\n",
       "    <tr>\n",
       "      <th>1</th>\n",
       "      <td>2398795</td>\n",
       "      <td>1</td>\n",
       "      <td>2</td>\n",
       "      <td>3</td>\n",
       "      <td>7</td>\n",
       "      <td>15.0</td>\n",
       "      <td>196</td>\n",
       "      <td>1</td>\n",
       "      <td>1</td>\n",
       "      <td>both</td>\n",
       "      <td>...</td>\n",
       "      <td>Mid-range product</td>\n",
       "      <td>Regularly busy</td>\n",
       "      <td>Slowest days</td>\n",
       "      <td>Fewest_orders</td>\n",
       "      <td>10</td>\n",
       "      <td>New customer</td>\n",
       "      <td>6.367797</td>\n",
       "      <td>Low spender</td>\n",
       "      <td>20.5</td>\n",
       "      <td>Non-frequent customer</td>\n",
       "    </tr>\n",
       "    <tr>\n",
       "      <th>2</th>\n",
       "      <td>473747</td>\n",
       "      <td>1</td>\n",
       "      <td>3</td>\n",
       "      <td>3</td>\n",
       "      <td>12</td>\n",
       "      <td>21.0</td>\n",
       "      <td>196</td>\n",
       "      <td>1</td>\n",
       "      <td>1</td>\n",
       "      <td>both</td>\n",
       "      <td>...</td>\n",
       "      <td>Mid-range product</td>\n",
       "      <td>Regularly busy</td>\n",
       "      <td>Slowest days</td>\n",
       "      <td>Most_orders</td>\n",
       "      <td>10</td>\n",
       "      <td>New customer</td>\n",
       "      <td>6.367797</td>\n",
       "      <td>Low spender</td>\n",
       "      <td>20.5</td>\n",
       "      <td>Non-frequent customer</td>\n",
       "    </tr>\n",
       "    <tr>\n",
       "      <th>3</th>\n",
       "      <td>2254736</td>\n",
       "      <td>1</td>\n",
       "      <td>4</td>\n",
       "      <td>4</td>\n",
       "      <td>7</td>\n",
       "      <td>29.0</td>\n",
       "      <td>196</td>\n",
       "      <td>1</td>\n",
       "      <td>1</td>\n",
       "      <td>both</td>\n",
       "      <td>...</td>\n",
       "      <td>Mid-range product</td>\n",
       "      <td>Least busy</td>\n",
       "      <td>Slowest days</td>\n",
       "      <td>Fewest_orders</td>\n",
       "      <td>10</td>\n",
       "      <td>New customer</td>\n",
       "      <td>6.367797</td>\n",
       "      <td>Low spender</td>\n",
       "      <td>20.5</td>\n",
       "      <td>Non-frequent customer</td>\n",
       "    </tr>\n",
       "    <tr>\n",
       "      <th>4</th>\n",
       "      <td>431534</td>\n",
       "      <td>1</td>\n",
       "      <td>5</td>\n",
       "      <td>4</td>\n",
       "      <td>15</td>\n",
       "      <td>28.0</td>\n",
       "      <td>196</td>\n",
       "      <td>1</td>\n",
       "      <td>1</td>\n",
       "      <td>both</td>\n",
       "      <td>...</td>\n",
       "      <td>Mid-range product</td>\n",
       "      <td>Least busy</td>\n",
       "      <td>Slowest days</td>\n",
       "      <td>Most_orders</td>\n",
       "      <td>10</td>\n",
       "      <td>New customer</td>\n",
       "      <td>6.367797</td>\n",
       "      <td>Low spender</td>\n",
       "      <td>20.5</td>\n",
       "      <td>Non-frequent customer</td>\n",
       "    </tr>\n",
       "  </tbody>\n",
       "</table>\n",
       "<p>5 rows × 26 columns</p>\n",
       "</div>"
      ],
      "text/plain": [
       "   order_id  user_id  order_number  orders_day_of_week  order_hour_of_day  \\\n",
       "0   2539329        1             1                   2                  8   \n",
       "1   2398795        1             2                   3                  7   \n",
       "2    473747        1             3                   3                 12   \n",
       "3   2254736        1             4                   4                  7   \n",
       "4    431534        1             5                   4                 15   \n",
       "\n",
       "   days_from_last_order  product_id  add_to_cart_order  reordered _merge  ...  \\\n",
       "0                   NaN         196                  1          0   both  ...   \n",
       "1                  15.0         196                  1          1   both  ...   \n",
       "2                  21.0         196                  1          1   both  ...   \n",
       "3                  29.0         196                  1          1   both  ...   \n",
       "4                  28.0         196                  1          1   both  ...   \n",
       "\n",
       "     price_range_loc     busiest_day  busiest_days  busiest_period_of_day  \\\n",
       "0  Mid-range product  Regularly busy  Regular days         Average_orders   \n",
       "1  Mid-range product  Regularly busy  Slowest days          Fewest_orders   \n",
       "2  Mid-range product  Regularly busy  Slowest days            Most_orders   \n",
       "3  Mid-range product      Least busy  Slowest days          Fewest_orders   \n",
       "4  Mid-range product      Least busy  Slowest days            Most_orders   \n",
       "\n",
       "   max_order  loyalty_flag average_spending spending flag  \\\n",
       "0         10  New customer         6.367797   Low spender   \n",
       "1         10  New customer         6.367797   Low spender   \n",
       "2         10  New customer         6.367797   Low spender   \n",
       "3         10  New customer         6.367797   Low spender   \n",
       "4         10  New customer         6.367797   Low spender   \n",
       "\n",
       "  frequency_of_purchase   order frequency flag  \n",
       "0                  20.5  Non-frequent customer  \n",
       "1                  20.5  Non-frequent customer  \n",
       "2                  20.5  Non-frequent customer  \n",
       "3                  20.5  Non-frequent customer  \n",
       "4                  20.5  Non-frequent customer  \n",
       "\n",
       "[5 rows x 26 columns]"
      ]
     },
     "execution_count": 17,
     "metadata": {},
     "output_type": "execute_result"
    }
   ],
   "source": [
    "ords_prods_merge.head()"
   ]
  },
  {
   "cell_type": "markdown",
   "id": "d26c0b60-516a-43fb-b739-c58c7f9b90d6",
   "metadata": {},
   "source": [
    "#### Drop merge column from ords_prod dataframe to avoid errors"
   ]
  },
  {
   "cell_type": "code",
   "execution_count": 18,
   "id": "c31d68af-6893-4edb-9492-1156a91a3d5d",
   "metadata": {},
   "outputs": [],
   "source": [
    "ords_prods_merge=ords_prods_merge.drop(columns ='_merge')"
   ]
  },
  {
   "cell_type": "markdown",
   "id": "a37308c0-bf0d-4ec2-a701-597b98b287d4",
   "metadata": {},
   "source": [
    "#### Merge Customer_original & ords_prods_merge dataframes "
   ]
  },
  {
   "cell_type": "code",
   "execution_count": 19,
   "id": "6e93cc80-c1ac-4179-91a6-3d4915038577",
   "metadata": {},
   "outputs": [],
   "source": [
    "## merge dataframe by using key as \"user_id\"\n",
    "\n",
    "instacart_ords_prods_customer_merge=ords_prods_merge.merge(df_customer_original, on = 'user_id', indicator=True)"
   ]
  },
  {
   "cell_type": "code",
   "execution_count": 22,
   "id": "75c7d83d-00cf-4967-906b-9e8bd8b9664b",
   "metadata": {},
   "outputs": [
    {
     "data": {
      "text/plain": [
       "Index(['order_id', 'user_id', 'order_number', 'orders_day_of_week',\n",
       "       'order_hour_of_day', 'days_from_last_order', 'product_id',\n",
       "       'add_to_cart_order', 'reordered', 'Unnamed: 0', 'product_name',\n",
       "       'aisle_id', 'department_id', 'prices', 'merge_indicator',\n",
       "       'price_range_loc', 'busiest_day', 'busiest_days',\n",
       "       'busiest_period_of_day', 'max_order', 'loyalty_flag',\n",
       "       'average_spending', 'spending flag', 'frequency_of_purchase',\n",
       "       'order frequency flag', 'first_name', 'last_name', 'gender', 'state',\n",
       "       'age', 'date_joined', 'dependant_no', 'family_status', 'income',\n",
       "       '_merge'],\n",
       "      dtype='object')"
      ]
     },
     "execution_count": 22,
     "metadata": {},
     "output_type": "execute_result"
    }
   ],
   "source": [
    "instacart_ords_prods_customer_merge.columns"
   ]
  },
  {
   "cell_type": "markdown",
   "id": "1dcc5189-e48c-4dd5-afba-10b58628f0a6",
   "metadata": {},
   "source": [
    "## Q8: Export final data set as pkl file"
   ]
  },
  {
   "cell_type": "code",
   "execution_count": 24,
   "id": "67bec74b-20b3-430f-8584-aeb1fda8cf55",
   "metadata": {},
   "outputs": [],
   "source": [
    "instacart_ords_prods_customer_merge.to_pickle(r'C:\\Users\\inesh\\Instacart Basket Analysis_01_02_2024\\02 Data\\Prepared Data\\instacart_ords_prods_customer_merge.pkl')"
   ]
  },
  {
   "cell_type": "code",
   "execution_count": null,
   "id": "d5c5610a-b794-4c39-aabd-ecec71cc407c",
   "metadata": {},
   "outputs": [],
   "source": []
  }
 ],
 "metadata": {
  "kernelspec": {
   "display_name": "Python 3 (ipykernel)",
   "language": "python",
   "name": "python3"
  },
  "language_info": {
   "codemirror_mode": {
    "name": "ipython",
    "version": 3
   },
   "file_extension": ".py",
   "mimetype": "text/x-python",
   "name": "python",
   "nbconvert_exporter": "python",
   "pygments_lexer": "ipython3",
   "version": "3.11.5"
  }
 },
 "nbformat": 4,
 "nbformat_minor": 5
}
